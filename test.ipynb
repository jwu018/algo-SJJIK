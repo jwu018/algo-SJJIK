{
 "cells": [
  {
   "metadata": {},
   "cell_type": "code",
   "outputs": [],
   "execution_count": null,
   "source": [
    "import selfeeg\n",
    "import selfeeg.augmentation as aug\n",
    "import selfeeg.dataloading as dl\n",
    "\n",
    "# IMPORT CLASSICAL PACKAGES\n",
    "import numpy as np\n",
    "import pandas as pd\n",
    "import matplotlib.pyplot as plt\n",
    "\n",
    "# Draw figures inline with this notebook\n",
    "%matplotlib inline\n",
    "\n",
    "# IMPORT TORCH\n",
    "import torch\n",
    "import torch.nn as nn\n",
    "import torch.nn.functional as F\n",
    "from torch.utils.data import DataLoader"
   ],
   "id": "7540ce7350f38afb"
  },
  {
   "metadata": {},
   "cell_type": "code",
   "outputs": [],
   "execution_count": null,
   "source": [
    "class TransformEEGEncoder(nn.Module):\n",
    "    def __init__(self, original_model):\n",
    "        super().__init__()\n",
    "        self.token_gen = original_model.token_gen\n",
    "        self.transformer = original_model.transformer\n",
    "        self.pool_lay = original_model.pool_lay\n",
    "\n",
    "    def forward(self, x):\n",
    "        # Token embedding\n",
    "        x = self.token_gen(x)\n",
    "\n",
    "        # Reshape for transformer\n",
    "        x = torch.permute(x, [0, 2, 1])  # (batch, seq_len, feature_dim)\n",
    "\n",
    "        # Transformer encoder\n",
    "        x = self.transformer(x)\n",
    "\n",
    "        # Reshape back for pooling\n",
    "        x = torch.permute(x, [0, 2, 1])\n",
    "\n",
    "        # Global pooling\n",
    "        x = self.pool_lay(x)  # (batch, features, 1)\n",
    "        x = x.squeeze(-1)     # (batch, features)\n",
    "\n",
    "        return x  # Latent representation for SSL"
   ],
   "id": "8bb76359f6ff57d"
  },
  {
   "metadata": {},
   "cell_type": "code",
   "outputs": [],
   "execution_count": null,
   "source": [
    "from models import TransformEEG\n",
    "from transformer_encoder_wrapper import TransformEEGEncoder\n",
    "\n",
    "# Initialize full model\n",
    "full_model = TransformEEG(nb_classes=2, Chan=32, Features=128)\n",
    "\n",
    "# Wrap encoder\n",
    "encoder = TransformEEGEncoder(full_model)"
   ],
   "id": "c7e0509d8018eab7"
  },
  {
   "cell_type": "code",
   "execution_count": null,
   "id": "initial_id",
   "metadata": {
    "collapsed": true
   },
   "outputs": [],
   "source": [
    "device = torch.device('cuda' if torch.cuda.is_available() else 'cpu')\n",
    "\n",
    "# Encoder\n",
    "NNencoder= selfeeg.models.ShallowNetEncoder(Chans=Chan, F=8)\n",
    "# It's suggested to copy the random initialization for embedding analysis\n",
    "NNencoder2= copy.deepcopy(NNencoder)\n",
    "\n",
    "# SSL model\n",
    "head_size=[ 88, 64, 64]\n",
    "SelfMdl = selfeeg.ssl.SimCLR(\n",
    "    encoder=NNencoder, projection_head=head_size).to(device=device)\n",
    "\n",
    "# loss (fit method has a default loss based on the SSL algorithm\n",
    "loss=selfeeg.losses.simclr_loss\n",
    "loss_arg={'temperature': 0.5}\n",
    "\n",
    "# earlystopper\n",
    "earlystop = selfeeg.ssl.EarlyStopping(\n",
    "    patience=25, min_delta=1e-05, record_best_weights=True)\n",
    "# optimizer\n",
    "optimizer = torch.optim.Adam(SelfMdl.parameters(), lr=1e-3)\n",
    "# lr scheduler\n",
    "scheduler = torch.optim.lr_scheduler.ExponentialLR(optimizer, gamma=0.97)"
   ]
  }
 ],
 "metadata": {
  "kernelspec": {
   "display_name": "Python 3",
   "language": "python",
   "name": "python3"
  },
  "language_info": {
   "codemirror_mode": {
    "name": "ipython",
    "version": 2
   },
   "file_extension": ".py",
   "mimetype": "text/x-python",
   "name": "python",
   "nbconvert_exporter": "python",
   "pygments_lexer": "ipython2",
   "version": "2.7.6"
  }
 },
 "nbformat": 4,
 "nbformat_minor": 5
}
