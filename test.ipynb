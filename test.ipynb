{
 "cells": [
  {
   "metadata": {
    "ExecuteTime": {
     "end_time": "2025-08-28T21:56:55.047362Z",
     "start_time": "2025-08-28T21:56:54.932684Z"
    }
   },
   "cell_type": "code",
   "source": [
    "import selfeeg\n",
    "import selfeeg.augmentation as aug\n",
    "import selfeeg.dataloading as dl\n",
    "\n",
    "# IMPORT CLASSICAL PACKAGES\n",
    "import numpy as np\n",
    "import pandas as pd\n",
    "import matplotlib.pyplot as plt\n",
    "\n",
    "# Draw figures inline with this notebook\n",
    "%matplotlib inline\n",
    "\n",
    "import copy\n",
    "import random\n",
    "# IMPORT TORCH\n",
    "import torch\n",
    "import torch.nn as nn\n",
    "import torch.nn.functional as F\n",
    "from torch.utils.data import DataLoader\n",
    "import mne"
   ],
   "id": "7540ce7350f38afb",
   "outputs": [],
   "execution_count": 3
  },
  {
   "metadata": {
    "ExecuteTime": {
     "end_time": "2025-08-28T21:56:57.112190Z",
     "start_time": "2025-08-28T21:56:57.092838Z"
    }
   },
   "cell_type": "code",
   "source": [
    "#set seed to 12\n",
    "\n",
    "class TransformEEGEncoder(nn.Module):\n",
    "    def __init__(self, original_model):\n",
    "        super().__init__()\n",
    "        self.token_gen = original_model.token_gen\n",
    "        self.transformer = original_model.transformer\n",
    "        self.pool_lay = original_model.pool_lay\n",
    "\n",
    "    def forward(self, x):\n",
    "        # Token embedding\n",
    "        x = self.token_gen(x)\n",
    "\n",
    "        # Reshape for transformer\n",
    "        x = torch.permute(x, [0, 2, 1])  # (batch, seq_len, feature_dim)\n",
    "\n",
    "        # Transformer encoder\n",
    "        x = self.transformer(x)\n",
    "\n",
    "        # Reshape back for pooling\n",
    "        x = torch.permute(x, [0, 2, 1])\n",
    "\n",
    "        # Global pooling\n",
    "        x = self.pool_lay(x)  # (batch, features, 1)\n",
    "        x = x.squeeze(-1)     # (batch, features)\n",
    "\n",
    "        return x  # Latent representation for SSL"
   ],
   "id": "8bb76359f6ff57d",
   "outputs": [],
   "execution_count": 4
  },
  {
   "metadata": {
    "ExecuteTime": {
     "end_time": "2025-08-28T21:57:01.869161Z",
     "start_time": "2025-08-28T21:56:58.934478Z"
    }
   },
   "cell_type": "code",
   "source": [
    "from models import TransformEEG\n",
    "from TF_Augmenter import Augmenter\n",
    "from Dataloading_Test import train_Dataloader\n",
    "from Dataloading_Test import val_Dataloader\n",
    "\n",
    "# Initialize full model\n",
    "baseline = TransformEEG(nb_classes=2, Chan=32, Features=128)\n",
    "ssl_backbone = TransformEEG(nb_classes=2, Chan=32, Features=128)\n",
    "# Wrap encoder\n",
    "encoder = TransformEEGEncoder(ssl_backbone)"
   ],
   "id": "c7e0509d8018eab7",
   "outputs": [
    {
     "ename": "AttributeError",
     "evalue": "module 'torch' has no attribute 'version'",
     "output_type": "error",
     "traceback": [
      "\u001B[31m---------------------------------------------------------------------------\u001B[39m",
      "\u001B[31mAttributeError\u001B[39m                            Traceback (most recent call last)",
      "\u001B[36mCell\u001B[39m\u001B[36m \u001B[39m\u001B[32mIn[5]\u001B[39m\u001B[32m, line 1\u001B[39m\n\u001B[32m----> \u001B[39m\u001B[32m1\u001B[39m \u001B[38;5;28;01mfrom\u001B[39;00m\u001B[38;5;250m \u001B[39m\u001B[34;01mmodels\u001B[39;00m\u001B[38;5;250m \u001B[39m\u001B[38;5;28;01mimport\u001B[39;00m TransformEEG\n\u001B[32m      2\u001B[39m \u001B[38;5;28;01mfrom\u001B[39;00m\u001B[38;5;250m \u001B[39m\u001B[34;01mTF_Augmenter\u001B[39;00m\u001B[38;5;250m \u001B[39m\u001B[38;5;28;01mimport\u001B[39;00m Augmenter\n\u001B[32m      3\u001B[39m \u001B[38;5;28;01mfrom\u001B[39;00m\u001B[38;5;250m \u001B[39m\u001B[34;01mDataloading_Test\u001B[39;00m\u001B[38;5;250m \u001B[39m\u001B[38;5;28;01mimport\u001B[39;00m train_Dataloader\n",
      "\u001B[36mFile \u001B[39m\u001B[32m~\\Downloads\\Algoverse\\models.py:10\u001B[39m\n\u001B[32m      8\u001B[39m \u001B[38;5;28;01mimport\u001B[39;00m\u001B[38;5;250m \u001B[39m\u001B[34;01mtorch\u001B[39;00m\u001B[34;01m.\u001B[39;00m\u001B[34;01mnn\u001B[39;00m\u001B[38;5;250m \u001B[39m\u001B[38;5;28;01mas\u001B[39;00m\u001B[38;5;250m \u001B[39m\u001B[34;01mnn\u001B[39;00m\n\u001B[32m      9\u001B[39m \u001B[38;5;28;01mimport\u001B[39;00m\u001B[38;5;250m \u001B[39m\u001B[34;01mtorch\u001B[39;00m\u001B[34;01m.\u001B[39;00m\u001B[34;01mnn\u001B[39;00m\u001B[34;01m.\u001B[39;00m\u001B[34;01mfunctional\u001B[39;00m\u001B[38;5;250m \u001B[39m\u001B[38;5;28;01mas\u001B[39;00m\u001B[38;5;250m \u001B[39m\u001B[34;01mF\u001B[39;00m\n\u001B[32m---> \u001B[39m\u001B[32m10\u001B[39m \u001B[38;5;28;01mfrom\u001B[39;00m\u001B[38;5;250m \u001B[39m\u001B[34;01meinops\u001B[39;00m\u001B[34;01m.\u001B[39;00m\u001B[34;01mlayers\u001B[39;00m\u001B[34;01m.\u001B[39;00m\u001B[34;01mtorch\u001B[39;00m\u001B[38;5;250m \u001B[39m\u001B[38;5;28;01mimport\u001B[39;00m Rearrange, Reduce\n\u001B[32m     11\u001B[39m \u001B[38;5;28;01mfrom\u001B[39;00m\u001B[38;5;250m \u001B[39m\u001B[34;01meinops\u001B[39;00m\u001B[38;5;250m \u001B[39m\u001B[38;5;28;01mimport\u001B[39;00m rearrange, reduce, repeat\n\u001B[32m     13\u001B[39m __all__ = [\n\u001B[32m     14\u001B[39m     \u001B[33m\"\u001B[39m\u001B[33mPSDNetFinal\u001B[39m\u001B[33m\"\u001B[39m,\n\u001B[32m     15\u001B[39m     \u001B[33m\"\u001B[39m\u001B[33mConformer\u001B[39m\u001B[33m\"\u001B[39m,\n\u001B[32m   (...)\u001B[39m\u001B[32m     18\u001B[39m     \u001B[33m\"\u001B[39m\u001B[33mEEGResNet18\u001B[39m\u001B[33m\"\u001B[39m\n\u001B[32m     19\u001B[39m ]\n",
      "\u001B[36mFile \u001B[39m\u001B[32m~\\AppData\\Local\\Programs\\Python\\Python313\\Lib\\site-packages\\einops\\layers\\torch.py:7\u001B[39m\n\u001B[32m      5\u001B[39m \u001B[38;5;28;01mfrom\u001B[39;00m\u001B[38;5;250m \u001B[39m\u001B[34;01m.\u001B[39;00m\u001B[38;5;250m \u001B[39m\u001B[38;5;28;01mimport\u001B[39;00m RearrangeMixin, ReduceMixin\n\u001B[32m      6\u001B[39m \u001B[38;5;28;01mfrom\u001B[39;00m\u001B[38;5;250m \u001B[39m\u001B[34;01m.\u001B[39;00m\u001B[34;01m_einmix\u001B[39;00m\u001B[38;5;250m \u001B[39m\u001B[38;5;28;01mimport\u001B[39;00m _EinmixMixin\n\u001B[32m----> \u001B[39m\u001B[32m7\u001B[39m \u001B[38;5;28;01mfrom\u001B[39;00m\u001B[38;5;250m \u001B[39m\u001B[34;01m.\u001B[39;00m\u001B[34;01m.\u001B[39;00m\u001B[34;01m_torch_specific\u001B[39;00m\u001B[38;5;250m \u001B[39m\u001B[38;5;28;01mimport\u001B[39;00m apply_for_scriptable_torch\n\u001B[32m      9\u001B[39m __author__ = \u001B[33m\"\u001B[39m\u001B[33mAlex Rogozhnikov\u001B[39m\u001B[33m\"\u001B[39m\n\u001B[32m     12\u001B[39m \u001B[38;5;28;01mclass\u001B[39;00m\u001B[38;5;250m \u001B[39m\u001B[34;01mRearrange\u001B[39;00m(RearrangeMixin, torch.nn.Module):\n",
      "\u001B[36mFile \u001B[39m\u001B[32m~\\AppData\\Local\\Programs\\Python\\Python313\\Lib\\site-packages\\einops\\_torch_specific.py:128\u001B[39m\n\u001B[32m    124\u001B[39m     _ops_were_registered_in_torchdynamo = \u001B[38;5;28;01mTrue\u001B[39;00m\n\u001B[32m    127\u001B[39m \u001B[38;5;66;03m# module import automatically registers ops in torchdynamo\u001B[39;00m\n\u001B[32m--> \u001B[39m\u001B[32m128\u001B[39m \u001B[43mallow_ops_in_compiled_graph\u001B[49m\u001B[43m(\u001B[49m\u001B[43m)\u001B[49m\n",
      "\u001B[36mFile \u001B[39m\u001B[32m~\\AppData\\Local\\Programs\\Python\\Python313\\Lib\\site-packages\\einops\\_torch_specific.py:107\u001B[39m, in \u001B[36mallow_ops_in_compiled_graph\u001B[39m\u001B[34m()\u001B[39m\n\u001B[32m    105\u001B[39m     \u001B[38;5;28;01mreturn\u001B[39;00m\n\u001B[32m    106\u001B[39m \u001B[38;5;28;01mtry\u001B[39;00m:\n\u001B[32m--> \u001B[39m\u001B[32m107\u001B[39m     \u001B[38;5;28;01mfrom\u001B[39;00m\u001B[38;5;250m \u001B[39m\u001B[34;01mtorch\u001B[39;00m\u001B[34;01m.\u001B[39;00m\u001B[34;01m_dynamo\u001B[39;00m\u001B[38;5;250m \u001B[39m\u001B[38;5;28;01mimport\u001B[39;00m allow_in_graph\n\u001B[32m    108\u001B[39m \u001B[38;5;28;01mexcept\u001B[39;00m \u001B[38;5;167;01mImportError\u001B[39;00m:\n\u001B[32m    109\u001B[39m     warnings.warn(\u001B[33m\"\u001B[39m\u001B[33mallow_ops_in_compiled_graph failed to import torch: ensure pytorch >=2.0\u001B[39m\u001B[33m\"\u001B[39m, \u001B[38;5;167;01mImportWarning\u001B[39;00m)\n",
      "\u001B[36mFile \u001B[39m\u001B[32m~\\AppData\\Local\\Programs\\Python\\Python313\\Lib\\site-packages\\torch\\_dynamo\\__init__.py:13\u001B[39m\n\u001B[32m      1\u001B[39m \u001B[33;03m\"\"\"\u001B[39;00m\n\u001B[32m      2\u001B[39m \u001B[33;03mTorchDynamo is a Python-level JIT compiler designed to make unmodified PyTorch programs faster.\u001B[39;00m\n\u001B[32m      3\u001B[39m \u001B[33;03mTorchDynamo hooks into the frame evaluation API in CPython (PEP 523) to dynamically modify Python\u001B[39;00m\n\u001B[32m   (...)\u001B[39m\u001B[32m      8\u001B[39m \u001B[33;03mseamlessly optimize PyTorch programs, including those using modern Python features.\u001B[39;00m\n\u001B[32m      9\u001B[39m \u001B[33;03m\"\"\"\u001B[39;00m\n\u001B[32m     11\u001B[39m \u001B[38;5;28;01mimport\u001B[39;00m\u001B[38;5;250m \u001B[39m\u001B[34;01mtorch\u001B[39;00m\n\u001B[32m---> \u001B[39m\u001B[32m13\u001B[39m \u001B[38;5;28;01mfrom\u001B[39;00m\u001B[38;5;250m \u001B[39m\u001B[34;01m.\u001B[39;00m\u001B[38;5;250m \u001B[39m\u001B[38;5;28;01mimport\u001B[39;00m config, convert_frame, eval_frame, resume_execution\n\u001B[32m     14\u001B[39m \u001B[38;5;28;01mfrom\u001B[39;00m\u001B[38;5;250m \u001B[39m\u001B[34;01m.\u001B[39;00m\u001B[34;01mbackends\u001B[39;00m\u001B[34;01m.\u001B[39;00m\u001B[34;01mregistry\u001B[39;00m\u001B[38;5;250m \u001B[39m\u001B[38;5;28;01mimport\u001B[39;00m list_backends, lookup_backend, register_backend\n\u001B[32m     15\u001B[39m \u001B[38;5;28;01mfrom\u001B[39;00m\u001B[38;5;250m \u001B[39m\u001B[34;01m.\u001B[39;00m\u001B[34;01mcallback\u001B[39;00m\u001B[38;5;250m \u001B[39m\u001B[38;5;28;01mimport\u001B[39;00m callback_handler, on_compile_end, on_compile_start\n",
      "\u001B[36mFile \u001B[39m\u001B[32m~\\AppData\\Local\\Programs\\Python\\Python313\\Lib\\site-packages\\torch\\_dynamo\\convert_frame.py:53\u001B[39m\n\u001B[32m     51\u001B[39m \u001B[38;5;28;01mfrom\u001B[39;00m\u001B[38;5;250m \u001B[39m\u001B[34;01mtorch\u001B[39;00m\u001B[34;01m.\u001B[39;00m\u001B[34;01m_dynamo\u001B[39;00m\u001B[34;01m.\u001B[39;00m\u001B[34;01mcallback\u001B[39;00m\u001B[38;5;250m \u001B[39m\u001B[38;5;28;01mimport\u001B[39;00m CallbackTrigger\n\u001B[32m     52\u001B[39m \u001B[38;5;28;01mfrom\u001B[39;00m\u001B[38;5;250m \u001B[39m\u001B[34;01mtorch\u001B[39;00m\u001B[34;01m.\u001B[39;00m\u001B[34;01m_dynamo\u001B[39;00m\u001B[34;01m.\u001B[39;00m\u001B[34;01mdistributed\u001B[39;00m\u001B[38;5;250m \u001B[39m\u001B[38;5;28;01mimport\u001B[39;00m get_compile_pg\n\u001B[32m---> \u001B[39m\u001B[32m53\u001B[39m \u001B[38;5;28;01mfrom\u001B[39;00m\u001B[38;5;250m \u001B[39m\u001B[34;01mtorch\u001B[39;00m\u001B[34;01m.\u001B[39;00m\u001B[34;01m_dynamo\u001B[39;00m\u001B[34;01m.\u001B[39;00m\u001B[34;01msymbolic_convert\u001B[39;00m\u001B[38;5;250m \u001B[39m\u001B[38;5;28;01mimport\u001B[39;00m TensorifyState\n\u001B[32m     54\u001B[39m \u001B[38;5;28;01mfrom\u001B[39;00m\u001B[38;5;250m \u001B[39m\u001B[34;01mtorch\u001B[39;00m\u001B[34;01m.\u001B[39;00m\u001B[34;01m_guards\u001B[39;00m\u001B[38;5;250m \u001B[39m\u001B[38;5;28;01mimport\u001B[39;00m compile_context, CompileContext, CompileId, tracing\n\u001B[32m     55\u001B[39m \u001B[38;5;28;01mfrom\u001B[39;00m\u001B[38;5;250m \u001B[39m\u001B[34;01mtorch\u001B[39;00m\u001B[34;01m.\u001B[39;00m\u001B[34;01m_logging\u001B[39;00m\u001B[38;5;250m \u001B[39m\u001B[38;5;28;01mimport\u001B[39;00m structured\n",
      "\u001B[36mFile \u001B[39m\u001B[32m~\\AppData\\Local\\Programs\\Python\\Python313\\Lib\\site-packages\\torch\\_dynamo\\symbolic_convert.py:58\u001B[39m\n\u001B[32m     55\u001B[39m \u001B[38;5;28;01mfrom\u001B[39;00m\u001B[38;5;250m \u001B[39m\u001B[34;01mtorch\u001B[39;00m\u001B[34;01m.\u001B[39;00m\u001B[34;01mfx\u001B[39;00m\u001B[34;01m.\u001B[39;00m\u001B[34;01mexperimental\u001B[39;00m\u001B[34;01m.\u001B[39;00m\u001B[34;01msymbolic_shapes\u001B[39;00m\u001B[38;5;250m \u001B[39m\u001B[38;5;28;01mimport\u001B[39;00m guard_bool\n\u001B[32m     56\u001B[39m \u001B[38;5;28;01mfrom\u001B[39;00m\u001B[38;5;250m \u001B[39m\u001B[34;01mtorch\u001B[39;00m\u001B[34;01m.\u001B[39;00m\u001B[34;01mutils\u001B[39;00m\u001B[34;01m.\u001B[39;00m\u001B[34;01m_functools\u001B[39;00m\u001B[38;5;250m \u001B[39m\u001B[38;5;28;01mimport\u001B[39;00m cache_method\n\u001B[32m---> \u001B[39m\u001B[32m58\u001B[39m \u001B[38;5;28;01mfrom\u001B[39;00m\u001B[38;5;250m \u001B[39m\u001B[34;01m.\u001B[39;00m\u001B[38;5;250m \u001B[39m\u001B[38;5;28;01mimport\u001B[39;00m (\n\u001B[32m     59\u001B[39m     config,\n\u001B[32m     60\u001B[39m     exc,\n\u001B[32m     61\u001B[39m     graph_break_hints,\n\u001B[32m     62\u001B[39m     logging \u001B[38;5;28;01mas\u001B[39;00m torchdynamo_logging,\n\u001B[32m     63\u001B[39m     trace_rules,\n\u001B[32m     64\u001B[39m     variables,\n\u001B[32m     65\u001B[39m )\n\u001B[32m     66\u001B[39m \u001B[38;5;28;01mfrom\u001B[39;00m\u001B[38;5;250m \u001B[39m\u001B[34;01m.\u001B[39;00m\u001B[34;01mbytecode_analysis\u001B[39;00m\u001B[38;5;250m \u001B[39m\u001B[38;5;28;01mimport\u001B[39;00m (\n\u001B[32m     67\u001B[39m     get_indexof,\n\u001B[32m     68\u001B[39m     JUMP_OPNAMES,\n\u001B[32m     69\u001B[39m     livevars_analysis,\n\u001B[32m     70\u001B[39m     propagate_line_nums,\n\u001B[32m     71\u001B[39m )\n\u001B[32m     72\u001B[39m \u001B[38;5;28;01mfrom\u001B[39;00m\u001B[38;5;250m \u001B[39m\u001B[34;01m.\u001B[39;00m\u001B[34;01mbytecode_transformation\u001B[39;00m\u001B[38;5;250m \u001B[39m\u001B[38;5;28;01mimport\u001B[39;00m (\n\u001B[32m     73\u001B[39m     cleaned_instructions,\n\u001B[32m     74\u001B[39m     create_call_function,\n\u001B[32m   (...)\u001B[39m\u001B[32m     81\u001B[39m     unique_id,\n\u001B[32m     82\u001B[39m )\n",
      "\u001B[36mFile \u001B[39m\u001B[32m~\\AppData\\Local\\Programs\\Python\\Python313\\Lib\\site-packages\\torch\\_dynamo\\trace_rules.py:47\u001B[39m\n\u001B[32m     44\u001B[39m \u001B[38;5;28;01mfrom\u001B[39;00m\u001B[38;5;250m \u001B[39m\u001B[34;01mtyping\u001B[39;00m\u001B[38;5;250m \u001B[39m\u001B[38;5;28;01mimport\u001B[39;00m Any, Callable, cast, Optional, Union\n\u001B[32m     46\u001B[39m \u001B[38;5;28;01mimport\u001B[39;00m\u001B[38;5;250m \u001B[39m\u001B[34;01mtorch\u001B[39;00m\n\u001B[32m---> \u001B[39m\u001B[32m47\u001B[39m \u001B[38;5;28;01mimport\u001B[39;00m\u001B[38;5;250m \u001B[39m\u001B[34;01mtorch\u001B[39;00m\u001B[34;01m.\u001B[39;00m\u001B[34;01m_inductor\u001B[39;00m\u001B[34;01m.\u001B[39;00m\u001B[34;01mtest_operators\u001B[39;00m\n\u001B[32m     48\u001B[39m \u001B[38;5;28;01mimport\u001B[39;00m\u001B[38;5;250m \u001B[39m\u001B[34;01mtorch\u001B[39;00m\u001B[34;01m.\u001B[39;00m\u001B[34;01mdistributed\u001B[39;00m\n\u001B[32m     49\u001B[39m \u001B[38;5;28;01mimport\u001B[39;00m\u001B[38;5;250m \u001B[39m\u001B[34;01mtorch\u001B[39;00m\u001B[34;01m.\u001B[39;00m\u001B[34;01mutils\u001B[39;00m\u001B[34;01m.\u001B[39;00m\u001B[34;01m_content_store\u001B[39;00m\n",
      "\u001B[36mFile \u001B[39m\u001B[32m~\\AppData\\Local\\Programs\\Python\\Python313\\Lib\\site-packages\\torch\\_inductor\\__init__.py:9\u001B[39m\n\u001B[32m      6\u001B[39m \u001B[38;5;28;01mimport\u001B[39;00m\u001B[38;5;250m \u001B[39m\u001B[34;01mos\u001B[39;00m\n\u001B[32m      7\u001B[39m \u001B[38;5;28;01mfrom\u001B[39;00m\u001B[38;5;250m \u001B[39m\u001B[34;01mtyping\u001B[39;00m\u001B[38;5;250m \u001B[39m\u001B[38;5;28;01mimport\u001B[39;00m Any, IO, Literal, Optional, TYPE_CHECKING, Union\n\u001B[32m----> \u001B[39m\u001B[32m9\u001B[39m \u001B[38;5;28;01mimport\u001B[39;00m\u001B[38;5;250m \u001B[39m\u001B[34;01mtorch\u001B[39;00m\u001B[34;01m.\u001B[39;00m\u001B[34;01m_inductor\u001B[39;00m\u001B[34;01m.\u001B[39;00m\u001B[34;01mconfig\u001B[39;00m\n\u001B[32m     10\u001B[39m \u001B[38;5;28;01mimport\u001B[39;00m\u001B[38;5;250m \u001B[39m\u001B[34;01mtorch\u001B[39;00m\u001B[34;01m.\u001B[39;00m\u001B[34;01mfx\u001B[39;00m\n\u001B[32m     12\u001B[39m \u001B[38;5;28;01mfrom\u001B[39;00m\u001B[38;5;250m \u001B[39m\u001B[34;01m.\u001B[39;00m\u001B[34;01mstandalone_compile\u001B[39;00m\u001B[38;5;250m \u001B[39m\u001B[38;5;28;01mimport\u001B[39;00m CompiledArtifact  \u001B[38;5;66;03m# noqa: TC001\u001B[39;00m\n",
      "\u001B[36mFile \u001B[39m\u001B[32m~\\AppData\\Local\\Programs\\Python\\Python313\\Lib\\site-packages\\torch\\_inductor\\config.py:533\u001B[39m\n\u001B[32m    528\u001B[39m autoheuristic_log_path = os.environ.get(\n\u001B[32m    529\u001B[39m     \u001B[33m\"\u001B[39m\u001B[33mTORCHINDUCTOR_AUTOHEURISTIC_LOG_PATH\u001B[39m\u001B[33m\"\u001B[39m, \u001B[33m\"\u001B[39m\u001B[33mDEFAULT\u001B[39m\u001B[33m\"\u001B[39m\n\u001B[32m    530\u001B[39m )\n\u001B[32m    532\u001B[39m \u001B[38;5;66;03m# Disabled by default on ROCm, opt-in if model utilises NHWC convolutions\u001B[39;00m\n\u001B[32m--> \u001B[39m\u001B[32m533\u001B[39m layout_opt_default = \u001B[33m\"\u001B[39m\u001B[33m1\u001B[39m\u001B[33m\"\u001B[39m \u001B[38;5;28;01mif\u001B[39;00m \u001B[38;5;129;01mnot\u001B[39;00m \u001B[43mtorch\u001B[49m\u001B[43m.\u001B[49m\u001B[43mversion\u001B[49m.hip \u001B[38;5;28;01melse\u001B[39;00m \u001B[33m\"\u001B[39m\u001B[33m0\u001B[39m\u001B[33m\"\u001B[39m\n\u001B[32m    534\u001B[39m layout_optimization = (\n\u001B[32m    535\u001B[39m     os.environ.get(\u001B[33m\"\u001B[39m\u001B[33mTORCHINDUCTOR_LAYOUT_OPTIMIZATION\u001B[39m\u001B[33m\"\u001B[39m, layout_opt_default) == \u001B[33m\"\u001B[39m\u001B[33m1\u001B[39m\u001B[33m\"\u001B[39m\n\u001B[32m    536\u001B[39m )\n\u001B[32m    538\u001B[39m force_layout_optimization = os.environ.get(\u001B[33m\"\u001B[39m\u001B[33mTORCHINDUCTOR_FORCE_LAYOUT_OPT\u001B[39m\u001B[33m\"\u001B[39m, \u001B[33m\"\u001B[39m\u001B[33m0\u001B[39m\u001B[33m\"\u001B[39m) == \u001B[33m\"\u001B[39m\u001B[33m1\u001B[39m\u001B[33m\"\u001B[39m\n",
      "\u001B[36mFile \u001B[39m\u001B[32m~\\AppData\\Local\\Programs\\Python\\Python313\\Lib\\site-packages\\torch\\__init__.py:2745\u001B[39m, in \u001B[36m__getattr__\u001B[39m\u001B[34m(name)\u001B[39m\n\u001B[32m   2742\u001B[39m \u001B[38;5;28;01mif\u001B[39;00m name \u001B[38;5;129;01min\u001B[39;00m _lazy_modules:\n\u001B[32m   2743\u001B[39m     \u001B[38;5;28;01mreturn\u001B[39;00m importlib.import_module(\u001B[33mf\u001B[39m\u001B[33m\"\u001B[39m\u001B[33m.\u001B[39m\u001B[38;5;132;01m{\u001B[39;00mname\u001B[38;5;132;01m}\u001B[39;00m\u001B[33m\"\u001B[39m, \u001B[34m__name__\u001B[39m)\n\u001B[32m-> \u001B[39m\u001B[32m2745\u001B[39m \u001B[38;5;28;01mraise\u001B[39;00m \u001B[38;5;167;01mAttributeError\u001B[39;00m(\u001B[33mf\u001B[39m\u001B[33m\"\u001B[39m\u001B[33mmodule \u001B[39m\u001B[33m'\u001B[39m\u001B[38;5;132;01m{\u001B[39;00m\u001B[34m__name__\u001B[39m\u001B[38;5;132;01m}\u001B[39;00m\u001B[33m'\u001B[39m\u001B[33m has no attribute \u001B[39m\u001B[33m'\u001B[39m\u001B[38;5;132;01m{\u001B[39;00mname\u001B[38;5;132;01m}\u001B[39;00m\u001B[33m'\u001B[39m\u001B[33m\"\u001B[39m)\n",
      "\u001B[31mAttributeError\u001B[39m: module 'torch' has no attribute 'version'"
     ]
    }
   ],
   "execution_count": 5
  },
  {
   "cell_type": "code",
   "id": "initial_id",
   "metadata": {
    "collapsed": true,
    "ExecuteTime": {
     "end_time": "2025-08-23T02:54:19.141576Z",
     "start_time": "2025-08-23T02:54:19.093952Z"
    }
   },
   "source": [
    "device = torch.device('cuda' if torch.cuda.is_available() else 'cpu')\n",
    "\n",
    "# Encoder\n",
    "NNencoder= encoder\n",
    "# It's suggested to copy the random initialization for embedding analysis\n",
    "NNencoder2= copy.deepcopy(NNencoder)\n",
    "\n",
    "# SSL model\n",
    "head_size=[ 88, 64, 64]\n",
    "SelfMdl = selfeeg.ssl.SimCLR(\n",
    "    encoder=NNencoder, projection_head=head_size).to(device=device)\n",
    "\n",
    "# loss (fit method has a default loss based on the SSL algorithm\n",
    "loss=selfeeg.losses.simclr_loss\n",
    "loss_arg={'temperature': 0.5}\n",
    "\n",
    "# earlystopper\n",
    "earlystop = selfeeg.ssl.EarlyStopping(\n",
    "    patience=25, min_delta=1e-05, record_best_weights=True)\n",
    "# optimizer\n",
    "optimizer = torch.optim.Adam(SelfMdl.parameters(), lr=1e-3)\n",
    "# lr scheduler\n",
    "scheduler = torch.optim.lr_scheduler.ExponentialLR(optimizer, gamma=0.97)"
   ],
   "outputs": [],
   "execution_count": 7
  },
  {
   "metadata": {},
   "cell_type": "code",
   "outputs": [],
   "execution_count": null,
   "source": [
    "loss_info = SelfMdl.fit(\n",
    "    train_dataloader      = train_Dataloader,\n",
    "    augmenter             = Augmenter,\n",
    "    epochs                = 5,\n",
    "    optimizer             = optimizer,\n",
    "    loss_func             = loss,\n",
    "    loss_args             = loss_arg,\n",
    "    lr_scheduler          = scheduler,\n",
    "    EarlyStopper          = earlystop,\n",
    "    validation_dataloader = val_Dataloader,\n",
    "    verbose               = True,\n",
    "    device                = device,\n",
    "    return_loss_info      = True\n",
    ")"
   ],
   "id": "eb78504629e4f48a"
  }
 ],
 "metadata": {
  "kernelspec": {
   "display_name": "Python 3",
   "language": "python",
   "name": "python3"
  },
  "language_info": {
   "codemirror_mode": {
    "name": "ipython",
    "version": 2
   },
   "file_extension": ".py",
   "mimetype": "text/x-python",
   "name": "python",
   "nbconvert_exporter": "python",
   "pygments_lexer": "ipython2",
   "version": "2.7.6"
  }
 },
 "nbformat": 4,
 "nbformat_minor": 5
}
